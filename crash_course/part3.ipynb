{
 "cells": [
  {
   "cell_type": "markdown",
   "id": "8758e918",
   "metadata": {},
   "source": [
    "## For loops"
   ]
  },
  {
   "cell_type": "code",
   "execution_count": 2,
   "id": "cdbad45f",
   "metadata": {},
   "outputs": [
    {
     "name": "stdout",
     "output_type": "stream",
     "text": [
      "1\n",
      "5\n",
      "9\n",
      "2\n",
      "3\n",
      "6\n",
      "20\n",
      "heh\n"
     ]
    }
   ],
   "source": [
    "list1 = [1,5,9,2,3,6,20,'heh']\n",
    "for char in  list1:\n",
    "    print(char)"
   ]
  },
  {
   "cell_type": "markdown",
   "id": "3e81109a",
   "metadata": {},
   "source": [
    "## While loops"
   ]
  },
  {
   "cell_type": "code",
   "execution_count": 4,
   "id": "3d4b62b4",
   "metadata": {},
   "outputs": [
    {
     "name": "stdout",
     "output_type": "stream",
     "text": [
      "1\n",
      "2\n",
      "3\n",
      "4\n",
      "5\n"
     ]
    }
   ],
   "source": [
    "i = 1\n",
    "while i<6:\n",
    "    print(i)\n",
    "    i = i+1"
   ]
  },
  {
   "cell_type": "markdown",
   "id": "be9c639d",
   "metadata": {},
   "source": [
    "## Range"
   ]
  },
  {
   "cell_type": "code",
   "execution_count": 14,
   "id": "8e7ae503",
   "metadata": {},
   "outputs": [
    {
     "name": "stdout",
     "output_type": "stream",
     "text": [
      "1\n",
      "2\n",
      "3\n"
     ]
    }
   ],
   "source": [
    "for x in range(1,4):\n",
    "    print(x)"
   ]
  },
  {
   "cell_type": "markdown",
   "id": "892c6ded",
   "metadata": {},
   "source": [
    "## List comprehension"
   ]
  },
  {
   "cell_type": "code",
   "execution_count": 18,
   "id": "618d8030",
   "metadata": {},
   "outputs": [
    {
     "data": {
      "text/plain": [
       "[9, 25, 4, 4, 1, 16, 25, 4, 16, 4, 25, 4, 1, 25, 25, 625, 36]"
      ]
     },
     "execution_count": 18,
     "metadata": {},
     "output_type": "execute_result"
    }
   ],
   "source": [
    "x = [3,5,2,2,1,4,5,2,4,2,5,2,1,5,5,25,6]\n",
    "[num**2 for num in x]\n"
   ]
  },
  {
   "cell_type": "markdown",
   "id": "2683a742",
   "metadata": {},
   "source": [
    "## Functions"
   ]
  },
  {
   "cell_type": "code",
   "execution_count": 26,
   "id": "d5abd506",
   "metadata": {},
   "outputs": [
    {
     "name": "stdout",
     "output_type": "stream",
     "text": [
      "hello eplasbaba\n"
     ]
    },
    {
     "data": {
      "text/plain": [
       "861184"
      ]
     },
     "execution_count": 26,
     "metadata": {},
     "output_type": "execute_result"
    }
   ],
   "source": [
    "# Simple function\n",
    "\n",
    "def func(param):\n",
    "    print(\"hello \" + param)\n",
    "\n",
    "func(\"eplasbaba\")\n",
    "\n",
    "\n",
    "# Other functions\n",
    "\n",
    "def square(num):\n",
    "    return num**2\n",
    "\n",
    "out = square(928)\n",
    "out"
   ]
  }
 ],
 "metadata": {
  "kernelspec": {
   "display_name": "Python 3 (ipykernel)",
   "language": "python",
   "name": "python3"
  },
  "language_info": {
   "codemirror_mode": {
    "name": "ipython",
    "version": 3
   },
   "file_extension": ".py",
   "mimetype": "text/x-python",
   "name": "python",
   "nbconvert_exporter": "python",
   "pygments_lexer": "ipython3",
   "version": "3.10.2"
  }
 },
 "nbformat": 4,
 "nbformat_minor": 5
}
