{
 "cells": [
  {
   "cell_type": "markdown",
   "id": "ae6c2fe7",
   "metadata": {},
   "source": [
    "# LAMBDA EXPRESSIONS"
   ]
  },
  {
   "cell_type": "code",
   "execution_count": 27,
   "id": "327ac2a1",
   "metadata": {},
   "outputs": [
    {
     "data": {
      "text/plain": [
       "[2, 4, 6, 8, 10]"
      ]
     },
     "execution_count": 27,
     "metadata": {},
     "output_type": "execute_result"
    }
   ],
   "source": [
    "# MAP FUNCTION\n",
    "\n",
    "def times2(param):\n",
    "    return param*2\n",
    "\n",
    "seq = [1,2,3,4,5]\n",
    "list(map(times2, seq))"
   ]
  },
  {
   "cell_type": "code",
   "execution_count": 30,
   "id": "50354f7f",
   "metadata": {},
   "outputs": [
    {
     "data": {
      "text/plain": [
       "[3, 6, 9, 12, 15]"
      ]
     },
     "execution_count": 30,
     "metadata": {},
     "output_type": "execute_result"
    }
   ],
   "source": [
    "# MAP FUNCTION USING LAMBDA EXPRESSIONS\n",
    "\n",
    "list(map(lambda param2:param2*3, seq))"
   ]
  },
  {
   "cell_type": "code",
   "execution_count": 31,
   "id": "66013052",
   "metadata": {},
   "outputs": [
    {
     "data": {
      "text/plain": [
       "[1, 3, 5]"
      ]
     },
     "execution_count": 31,
     "metadata": {},
     "output_type": "execute_result"
    }
   ],
   "source": [
    "# FILTER FUNCTION\n",
    "\n",
    "list(filter(lambda param3:param3%2 !=0, seq))"
   ]
  }
 ],
 "metadata": {
  "kernelspec": {
   "display_name": "Python 3 (ipykernel)",
   "language": "python",
   "name": "python3"
  },
  "language_info": {
   "codemirror_mode": {
    "name": "ipython",
    "version": 3
   },
   "file_extension": ".py",
   "mimetype": "text/x-python",
   "name": "python",
   "nbconvert_exporter": "python",
   "pygments_lexer": "ipython3",
   "version": "3.10.2"
  }
 },
 "nbformat": 4,
 "nbformat_minor": 5
}
