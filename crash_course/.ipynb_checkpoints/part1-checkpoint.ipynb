{
 "cells": [
  {
   "cell_type": "markdown",
   "id": "03eb82ce",
   "metadata": {},
   "source": [
    "# DATA TYPES "
   ]
  },
  {
   "cell_type": "code",
   "execution_count": 3,
   "id": "17e8213b",
   "metadata": {},
   "outputs": [
    {
     "name": "stdout",
     "output_type": "stream",
     "text": [
      "hello\n",
      "hello my name is eplasbaba\n"
     ]
    }
   ],
   "source": [
    "# Strings\n",
    "a = \"hello\"\n",
    "print(a)\n",
    "\n",
    "# Format strings using print(f\"\")\n",
    "name = \"eplasbaba\"\n",
    "print(f\"hello my name is {name}\")"
   ]
  },
  {
   "cell_type": "code",
   "execution_count": 11,
   "id": "c13477e0",
   "metadata": {},
   "outputs": [
    {
     "data": {
      "text/plain": [
       "'efghij'"
      ]
     },
     "execution_count": 11,
     "metadata": {},
     "output_type": "execute_result"
    }
   ],
   "source": [
    "# Indexing Strings\n",
    "\n",
    "var = \"hello\"\n",
    "var[4]\n",
    "\n",
    "# Slice notation\n",
    "\n",
    "var2 = \"abcdefghijklmnopqrstuvwxyz\"\n",
    "var2[4:10]"
   ]
  },
  {
   "cell_type": "code",
   "execution_count": null,
   "id": "2d3f82fd",
   "metadata": {},
   "outputs": [],
   "source": [
    "# Lists\n",
    "\n",
    "list1 = [\"a\", \"b\" , \"c\"]\n",
    "list1.append(\"d\")\n",
    "\n",
    "list1[0:3] # Slicing also works for lists\n",
    "\n",
    "# Reassigning positions in lists\n",
    "\n",
    "list1[0] = \"reassigned\"\n",
    "print(list1)\n",
    "\n",
    "# Lists can also be nested within one-another\n",
    "\n",
    "l1 = [\"char1\", 4, [\"new char\", 2, \"lets try again\", [\"another list\", 21]]]\n",
    "l1[2][3][0]"
   ]
  }
 ],
 "metadata": {
  "kernelspec": {
   "display_name": "Python 3 (ipykernel)",
   "language": "python",
   "name": "python3"
  },
  "language_info": {
   "codemirror_mode": {
    "name": "ipython",
    "version": 3
   },
   "file_extension": ".py",
   "mimetype": "text/x-python",
   "name": "python",
   "nbconvert_exporter": "python",
   "pygments_lexer": "ipython3",
   "version": "3.10.2"
  }
 },
 "nbformat": 4,
 "nbformat_minor": 5
}
