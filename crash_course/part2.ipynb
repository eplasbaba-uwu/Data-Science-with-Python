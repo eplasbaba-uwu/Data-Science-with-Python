{
 "cells": [
  {
   "cell_type": "code",
   "execution_count": 20,
   "id": "99765e0e",
   "metadata": {},
   "outputs": [
    {
     "data": {
      "text/plain": [
       "['this', 'is', 'a', 'list']"
      ]
     },
     "execution_count": 20,
     "metadata": {},
     "output_type": "execute_result"
    }
   ],
   "source": [
    "# Dictionaries\n",
    "\n",
    "my_dict = {\"key1\": \"hello\", \"key2\": \"guys\"}\n",
    "my_dict[\"key1\"]\n",
    "\n",
    "\n",
    "my_dict2 = {\"key1\": [1, 2, \"eplasbaba\", [9, \"is\", [12, \"target\"]]]} # hash's can be nested with lists\n",
    "my_dict2[\"key1\"][3][2][1]\n",
    "\n",
    "\n",
    "my_dict3 = {\"key1\": {\"hello\": [\"this\", \"is\", \"a\", \"list\"]}} # hash's can also be nested with other hash's\n",
    "my_dict3[\"key1\"][\"hello\"]"
   ]
  },
  {
   "cell_type": "code",
   "execution_count": 21,
   "id": "194affd9",
   "metadata": {},
   "outputs": [
    {
     "data": {
      "text/plain": [
       "False"
      ]
     },
     "execution_count": 21,
     "metadata": {},
     "output_type": "execute_result"
    }
   ],
   "source": [
    "# Booleans\n",
    "\n",
    "# Only 2 values\n",
    "\n",
    "True\n",
    "\n",
    "False"
   ]
  },
  {
   "cell_type": "code",
   "execution_count": 24,
   "id": "de3c6674",
   "metadata": {},
   "outputs": [
    {
     "data": {
      "text/plain": [
       "1"
      ]
     },
     "execution_count": 24,
     "metadata": {},
     "output_type": "execute_result"
    }
   ],
   "source": [
    "# Tuples\n",
    "tuple1 = (1, 2, 3, 9)\n",
    "tuple1[0]\n",
    "# tuples are immutable\n",
    "# so, tuple1[0] = \"something else\" will give an error"
   ]
  },
  {
   "cell_type": "code",
   "execution_count": 28,
   "id": "5520f1ad",
   "metadata": {},
   "outputs": [
    {
     "data": {
      "text/plain": [
       "{1, 2, 3, 9}"
      ]
     },
     "execution_count": 28,
     "metadata": {},
     "output_type": "execute_result"
    }
   ],
   "source": [
    "# Sets\n",
    "\n",
    "set1 = {1,2,3}\n",
    "set2 = {1,2,3,1,1,2,3,1,3,3,1,2,2,3,2,1,3,2}\n",
    "# set consists of only unique elements\n",
    "set([1,4,2,4,2,1,2,3,5,3,2,4,4,56,3,5])\n",
    "set1.add(9) # Sets are mutable\n",
    "set1"
   ]
  },
  {
   "cell_type": "code",
   "execution_count": 35,
   "id": "77497709",
   "metadata": {},
   "outputs": [
    {
     "data": {
      "text/plain": [
       "False"
      ]
     },
     "execution_count": 35,
     "metadata": {},
     "output_type": "execute_result"
    }
   ],
   "source": [
    "# Comparision operators\n",
    "1<2 #True\n",
    "1>2 #False\n",
    "1==2 #False\n",
    "1!=2 #True\n",
    "\"hi\"==\"hi\" #True\n",
    "\"hi\"==\"eplasbaba\" #False\n",
    "1<2 and 2<69  # True\n",
    "1<2 and 2>3 # False\n",
    "1<2 or 2>3 #True\n",
    "1<2 or 2<3 #True\n",
    "1>2 or 2>3 #False"
   ]
  }
 ],
 "metadata": {
  "kernelspec": {
   "display_name": "Python 3 (ipykernel)",
   "language": "python",
   "name": "python3"
  },
  "language_info": {
   "codemirror_mode": {
    "name": "ipython",
    "version": 3
   },
   "file_extension": ".py",
   "mimetype": "text/x-python",
   "name": "python",
   "nbconvert_exporter": "python",
   "pygments_lexer": "ipython3",
   "version": "3.10.2"
  }
 },
 "nbformat": 4,
 "nbformat_minor": 5
}
