{
 "cells": [
  {
   "cell_type": "markdown",
   "id": "aa90fc17",
   "metadata": {},
   "source": [
    "# This is the notebook for using numpy for data analysis"
   ]
  },
  {
   "cell_type": "code",
   "execution_count": 1,
   "id": "2d7e3459",
   "metadata": {},
   "outputs": [],
   "source": [
    "import numpy as np"
   ]
  },
  {
   "cell_type": "markdown",
   "id": "f3bf7687",
   "metadata": {},
   "source": [
    "# NumPy Arrays"
   ]
  },
  {
   "cell_type": "code",
   "execution_count": 2,
   "id": "c904a56f",
   "metadata": {},
   "outputs": [],
   "source": [
    "list1 = [1,2,3]"
   ]
  },
  {
   "cell_type": "code",
   "execution_count": 3,
   "id": "3e7f3b59",
   "metadata": {},
   "outputs": [],
   "source": [
    "arr1 = np.array(list1)"
   ]
  },
  {
   "cell_type": "markdown",
   "id": "52ac73c2",
   "metadata": {},
   "source": [
    "### creation of a vector"
   ]
  },
  {
   "cell_type": "code",
   "execution_count": 5,
   "id": "f71c3d6e",
   "metadata": {},
   "outputs": [
    {
     "data": {
      "text/plain": [
       "array([1, 2, 3])"
      ]
     },
     "execution_count": 5,
     "metadata": {},
     "output_type": "execute_result"
    }
   ],
   "source": [
    "arr1"
   ]
  },
  {
   "cell_type": "code",
   "execution_count": 8,
   "id": "665b65d7",
   "metadata": {},
   "outputs": [],
   "source": [
    "mat1 = [[1,2,3],[4,5,6],[7,8,9]]"
   ]
  },
  {
   "cell_type": "code",
   "execution_count": 11,
   "id": "e6bc4516",
   "metadata": {},
   "outputs": [],
   "source": [
    "matrix1 = np.array(mat1)"
   ]
  },
  {
   "cell_type": "markdown",
   "id": "0626efaf",
   "metadata": {},
   "source": [
    "### creation of a matrix"
   ]
  },
  {
   "cell_type": "code",
   "execution_count": 10,
   "id": "0ae1ab7a",
   "metadata": {},
   "outputs": [
    {
     "data": {
      "text/plain": [
       "array([[1, 2, 3],\n",
       "       [4, 5, 6],\n",
       "       [7, 8, 9]])"
      ]
     },
     "execution_count": 10,
     "metadata": {},
     "output_type": "execute_result"
    }
   ],
   "source": [
    "matrix1"
   ]
  },
  {
   "cell_type": "markdown",
   "id": "3522defb",
   "metadata": {},
   "source": [
    "## Generate numpy arrays automatically"
   ]
  },
  {
   "cell_type": "code",
   "execution_count": 13,
   "id": "8b6926ac",
   "metadata": {},
   "outputs": [
    {
     "data": {
      "text/plain": [
       "array([ 0,  2,  4,  6,  8, 10])"
      ]
     },
     "execution_count": 13,
     "metadata": {},
     "output_type": "execute_result"
    }
   ],
   "source": [
    "# METHOD 1\n",
    "\n",
    "np.arange(0,11,2)"
   ]
  },
  {
   "cell_type": "markdown",
   "id": "55b32487",
   "metadata": {},
   "source": [
    "### - to create array containing only zeros"
   ]
  },
  {
   "cell_type": "code",
   "execution_count": 18,
   "id": "7bc08dbe",
   "metadata": {},
   "outputs": [
    {
     "data": {
      "text/plain": [
       "array([[0., 0.],\n",
       "       [0., 0.],\n",
       "       [0., 0.],\n",
       "       [0., 0.]])"
      ]
     },
     "execution_count": 18,
     "metadata": {},
     "output_type": "execute_result"
    }
   ],
   "source": [
    "np.zeros((4,2))"
   ]
  },
  {
   "cell_type": "markdown",
   "id": "ece06b76",
   "metadata": {},
   "source": [
    "### to create array containing only ones"
   ]
  },
  {
   "cell_type": "code",
   "execution_count": 21,
   "id": "e6b4343b",
   "metadata": {},
   "outputs": [
    {
     "data": {
      "text/plain": [
       "array([[1., 1., 1.],\n",
       "       [1., 1., 1.],\n",
       "       [1., 1., 1.],\n",
       "       [1., 1., 1.],\n",
       "       [1., 1., 1.]])"
      ]
     },
     "execution_count": 21,
     "metadata": {},
     "output_type": "execute_result"
    }
   ],
   "source": [
    "np.ones((5,3))"
   ]
  },
  {
   "cell_type": "markdown",
   "id": "8d8db56b",
   "metadata": {},
   "source": [
    "### most used method"
   ]
  },
  {
   "cell_type": "code",
   "execution_count": 23,
   "id": "3892ac65",
   "metadata": {},
   "outputs": [
    {
     "data": {
      "text/plain": [
       "array([0.        , 0.55555556, 1.11111111, 1.66666667, 2.22222222,\n",
       "       2.77777778, 3.33333333, 3.88888889, 4.44444444, 5.        ])"
      ]
     },
     "execution_count": 23,
     "metadata": {},
     "output_type": "execute_result"
    }
   ],
   "source": [
    "np.linspace(0,5,10)"
   ]
  },
  {
   "cell_type": "markdown",
   "id": "f3cdc68d",
   "metadata": {},
   "source": [
    "## Creating identity matrix\n",
    "* an identity matrix is a matrix in which the number of rows = the number of columns and there is a diagonal line made of only ones and the rest of the positions are filled with only zeros."
   ]
  },
  {
   "cell_type": "code",
   "execution_count": 25,
   "id": "d4e1896d",
   "metadata": {},
   "outputs": [
    {
     "data": {
      "text/plain": [
       "array([[1., 0., 0., 0.],\n",
       "       [0., 1., 0., 0.],\n",
       "       [0., 0., 1., 0.],\n",
       "       [0., 0., 0., 1.]])"
      ]
     },
     "execution_count": 25,
     "metadata": {},
     "output_type": "execute_result"
    }
   ],
   "source": [
    "np.eye(4)"
   ]
  },
  {
   "cell_type": "markdown",
   "id": "5a91b202",
   "metadata": {},
   "source": [
    "## Creating an array filled with random numbers"
   ]
  },
  {
   "cell_type": "code",
   "execution_count": 26,
   "id": "f8b2c63b",
   "metadata": {},
   "outputs": [
    {
     "data": {
      "text/plain": [
       "array([0.18551698, 0.97876896, 0.64210389, 0.54576411, 0.41828687])"
      ]
     },
     "execution_count": 26,
     "metadata": {},
     "output_type": "execute_result"
    }
   ],
   "source": [
    "np.random.rand(5) # This creates a vector"
   ]
  },
  {
   "cell_type": "code",
   "execution_count": 27,
   "id": "ea98e340",
   "metadata": {},
   "outputs": [
    {
     "data": {
      "text/plain": [
       "array([[0.68598412, 0.06323972, 0.12796618, 0.07076806, 0.66735988],\n",
       "       [0.55202618, 0.09965386, 0.89853624, 0.39829273, 0.73950774],\n",
       "       [0.23705609, 0.81777272, 0.60753131, 0.94141792, 0.28244447],\n",
       "       [0.90285039, 0.44747464, 0.28130659, 0.57514102, 0.22080757],\n",
       "       [0.54062271, 0.32420651, 0.38484885, 0.83716732, 0.45069919]])"
      ]
     },
     "execution_count": 27,
     "metadata": {},
     "output_type": "execute_result"
    }
   ],
   "source": [
    "np.random.rand(5,5) # This creates a matrix"
   ]
  },
  {
   "cell_type": "code",
   "execution_count": 30,
   "id": "8eef98b0",
   "metadata": {},
   "outputs": [
    {
     "data": {
      "text/plain": [
       "array([ 1.78416024, -0.30822744])"
      ]
     },
     "execution_count": 30,
     "metadata": {},
     "output_type": "execute_result"
    }
   ],
   "source": [
    "np.random.randn(2)"
   ]
  },
  {
   "cell_type": "code",
   "execution_count": 33,
   "id": "557c8171",
   "metadata": {},
   "outputs": [
    {
     "data": {
      "text/plain": [
       "array([[-0.45767347, -0.94586873,  0.19240554,  0.06854531],\n",
       "       [-0.08647645, -0.03727138,  0.08335302, -1.02369126],\n",
       "       [ 0.67729692,  0.2110331 , -1.82560524, -0.05979097],\n",
       "       [-0.81729886,  0.32953315,  0.08692597,  2.72689397]])"
      ]
     },
     "execution_count": 33,
     "metadata": {},
     "output_type": "execute_result"
    }
   ],
   "source": [
    "np.random.randn(4,4)"
   ]
  },
  {
   "cell_type": "code",
   "execution_count": 36,
   "id": "abca72f7",
   "metadata": {},
   "outputs": [
    {
     "data": {
      "text/plain": [
       "array([43, 40, 89, 94, 22, 84, 35, 36, 76, 35])"
      ]
     },
     "execution_count": 36,
     "metadata": {},
     "output_type": "execute_result"
    }
   ],
   "source": [
    "np.random.randint(1,100,10)"
   ]
  },
  {
   "cell_type": "markdown",
   "id": "51fef80c",
   "metadata": {},
   "source": [
    "## Reshaping arrays"
   ]
  },
  {
   "cell_type": "code",
   "execution_count": 37,
   "id": "075baf36",
   "metadata": {},
   "outputs": [],
   "source": [
    "arr = np.arange(25)"
   ]
  },
  {
   "cell_type": "code",
   "execution_count": 38,
   "id": "8ce119ff",
   "metadata": {},
   "outputs": [
    {
     "data": {
      "text/plain": [
       "array([[ 0,  1,  2,  3,  4],\n",
       "       [ 5,  6,  7,  8,  9],\n",
       "       [10, 11, 12, 13, 14],\n",
       "       [15, 16, 17, 18, 19],\n",
       "       [20, 21, 22, 23, 24]])"
      ]
     },
     "execution_count": 38,
     "metadata": {},
     "output_type": "execute_result"
    }
   ],
   "source": [
    "arr.reshape(5,5) # raise ValueError if the matrix cannot be filled completely"
   ]
  },
  {
   "cell_type": "markdown",
   "id": "28889534",
   "metadata": {},
   "source": [
    "## Few useful methods"
   ]
  },
  {
   "cell_type": "code",
   "execution_count": 40,
   "id": "3a8773f7",
   "metadata": {},
   "outputs": [],
   "source": [
    "randarr = np.random.randint(0,100,10)"
   ]
  },
  {
   "cell_type": "code",
   "execution_count": 53,
   "id": "a783ddaf",
   "metadata": {},
   "outputs": [
    {
     "data": {
      "text/plain": [
       "array([29, 55, 82, 64, 23, 72, 17, 72, 89, 42])"
      ]
     },
     "execution_count": 53,
     "metadata": {},
     "output_type": "execute_result"
    }
   ],
   "source": [
    "randarr"
   ]
  },
  {
   "cell_type": "code",
   "execution_count": 55,
   "id": "d483a699",
   "metadata": {},
   "outputs": [
    {
     "data": {
      "text/plain": [
       "89"
      ]
     },
     "execution_count": 55,
     "metadata": {},
     "output_type": "execute_result"
    }
   ],
   "source": [
    "randarr.max()"
   ]
  },
  {
   "cell_type": "code",
   "execution_count": 56,
   "id": "2619b5d2",
   "metadata": {},
   "outputs": [
    {
     "data": {
      "text/plain": [
       "17"
      ]
     },
     "execution_count": 56,
     "metadata": {},
     "output_type": "execute_result"
    }
   ],
   "source": [
    "randarr.min()"
   ]
  },
  {
   "cell_type": "code",
   "execution_count": 44,
   "id": "80e08cd6",
   "metadata": {},
   "outputs": [
    {
     "data": {
      "text/plain": [
       "8"
      ]
     },
     "execution_count": 44,
     "metadata": {},
     "output_type": "execute_result"
    }
   ],
   "source": [
    "randarr.argmax()"
   ]
  },
  {
   "cell_type": "code",
   "execution_count": 47,
   "id": "e6165a09",
   "metadata": {},
   "outputs": [
    {
     "data": {
      "text/plain": [
       "6"
      ]
     },
     "execution_count": 47,
     "metadata": {},
     "output_type": "execute_result"
    }
   ],
   "source": [
    "randarr.argmin()"
   ]
  },
  {
   "cell_type": "code",
   "execution_count": 52,
   "id": "df1d9f11",
   "metadata": {},
   "outputs": [
    {
     "data": {
      "text/plain": [
       "(10,)"
      ]
     },
     "execution_count": 52,
     "metadata": {},
     "output_type": "execute_result"
    }
   ],
   "source": [
    "randarr.shape"
   ]
  },
  {
   "cell_type": "code",
   "execution_count": 58,
   "id": "86c6e289",
   "metadata": {},
   "outputs": [
    {
     "data": {
      "text/plain": [
       "dtype('int32')"
      ]
     },
     "execution_count": 58,
     "metadata": {},
     "output_type": "execute_result"
    }
   ],
   "source": [
    "randarr.dtype"
   ]
  },
  {
   "cell_type": "markdown",
   "id": "b0278cb0",
   "metadata": {},
   "source": [
    "# NumPy Indexing and Listing "
   ]
  },
  {
   "cell_type": "markdown",
   "id": "a95e7911",
   "metadata": {},
   "source": [
    "## Vectors"
   ]
  },
  {
   "cell_type": "code",
   "execution_count": 60,
   "id": "8b3cde56",
   "metadata": {},
   "outputs": [],
   "source": [
    "arr = np.arange(0,11)"
   ]
  },
  {
   "cell_type": "code",
   "execution_count": 61,
   "id": "854a2022",
   "metadata": {},
   "outputs": [
    {
     "data": {
      "text/plain": [
       "array([ 0,  1,  2,  3,  4,  5,  6,  7,  8,  9, 10])"
      ]
     },
     "execution_count": 61,
     "metadata": {},
     "output_type": "execute_result"
    }
   ],
   "source": [
    "arr"
   ]
  },
  {
   "cell_type": "code",
   "execution_count": 62,
   "id": "45237a24",
   "metadata": {},
   "outputs": [
    {
     "data": {
      "text/plain": [
       "4"
      ]
     },
     "execution_count": 62,
     "metadata": {},
     "output_type": "execute_result"
    }
   ],
   "source": [
    "arr[4]"
   ]
  },
  {
   "cell_type": "code",
   "execution_count": 64,
   "id": "943a41bc",
   "metadata": {},
   "outputs": [
    {
     "data": {
      "text/plain": [
       "array([1, 2, 3, 4])"
      ]
     },
     "execution_count": 64,
     "metadata": {},
     "output_type": "execute_result"
    }
   ],
   "source": [
    "arr[1:5]"
   ]
  },
  {
   "cell_type": "code",
   "execution_count": 65,
   "id": "d07b65de",
   "metadata": {},
   "outputs": [
    {
     "data": {
      "text/plain": [
       "array([0, 1, 2, 3, 4])"
      ]
     },
     "execution_count": 65,
     "metadata": {},
     "output_type": "execute_result"
    }
   ],
   "source": [
    "arr[:5]"
   ]
  },
  {
   "cell_type": "code",
   "execution_count": 66,
   "id": "a8f0d4fd",
   "metadata": {},
   "outputs": [
    {
     "data": {
      "text/plain": [
       "array([ 5,  6,  7,  8,  9, 10])"
      ]
     },
     "execution_count": 66,
     "metadata": {},
     "output_type": "execute_result"
    }
   ],
   "source": [
    "arr[5:]"
   ]
  },
  {
   "cell_type": "code",
   "execution_count": 67,
   "id": "a12d8035",
   "metadata": {},
   "outputs": [],
   "source": [
    "arr[:6] = 100"
   ]
  },
  {
   "cell_type": "code",
   "execution_count": 68,
   "id": "93b00b97",
   "metadata": {},
   "outputs": [
    {
     "data": {
      "text/plain": [
       "array([100, 100, 100, 100, 100, 100,   6,   7,   8,   9,  10])"
      ]
     },
     "execution_count": 68,
     "metadata": {},
     "output_type": "execute_result"
    }
   ],
   "source": [
    "arr"
   ]
  },
  {
   "cell_type": "code",
   "execution_count": 69,
   "id": "5dd9981f",
   "metadata": {},
   "outputs": [],
   "source": [
    "arr = np.arange(0,11)"
   ]
  },
  {
   "cell_type": "code",
   "execution_count": 70,
   "id": "2b24b767",
   "metadata": {},
   "outputs": [
    {
     "data": {
      "text/plain": [
       "array([0, 1, 2, 3, 4, 5])"
      ]
     },
     "execution_count": 70,
     "metadata": {},
     "output_type": "execute_result"
    }
   ],
   "source": [
    "slice_ver = arr[:6]\n",
    "slice_ver"
   ]
  },
  {
   "cell_type": "code",
   "execution_count": 71,
   "id": "34ee8dc2",
   "metadata": {},
   "outputs": [],
   "source": [
    "slice_ver[:] = 99"
   ]
  },
  {
   "cell_type": "code",
   "execution_count": 72,
   "id": "7927b73a",
   "metadata": {},
   "outputs": [
    {
     "data": {
      "text/plain": [
       "array([99, 99, 99, 99, 99, 99])"
      ]
     },
     "execution_count": 72,
     "metadata": {},
     "output_type": "execute_result"
    }
   ],
   "source": [
    "slice_ver #This is not a copy of arr. it is just a reference"
   ]
  },
  {
   "cell_type": "code",
   "execution_count": 73,
   "id": "5688e95b",
   "metadata": {},
   "outputs": [
    {
     "data": {
      "text/plain": [
       "array([99, 99, 99, 99, 99, 99,  6,  7,  8,  9, 10])"
      ]
     },
     "execution_count": 73,
     "metadata": {},
     "output_type": "execute_result"
    }
   ],
   "source": [
    "arr"
   ]
  },
  {
   "cell_type": "code",
   "execution_count": 74,
   "id": "e86016e0",
   "metadata": {},
   "outputs": [],
   "source": [
    "arr_copy = arr.copy() # this is how you can copy an array"
   ]
  },
  {
   "cell_type": "code",
   "execution_count": 76,
   "id": "4e684485",
   "metadata": {},
   "outputs": [
    {
     "data": {
      "text/plain": [
       "array([99, 99, 99, 99, 99, 99,  6,  7,  8,  9, 10])"
      ]
     },
     "execution_count": 76,
     "metadata": {},
     "output_type": "execute_result"
    }
   ],
   "source": [
    "arr_copy"
   ]
  },
  {
   "cell_type": "code",
   "execution_count": 77,
   "id": "814ac74d",
   "metadata": {},
   "outputs": [],
   "source": [
    "arr_copy[:] = 100"
   ]
  },
  {
   "cell_type": "code",
   "execution_count": 78,
   "id": "50cdc44c",
   "metadata": {},
   "outputs": [
    {
     "data": {
      "text/plain": [
       "array([100, 100, 100, 100, 100, 100, 100, 100, 100, 100, 100])"
      ]
     },
     "execution_count": 78,
     "metadata": {},
     "output_type": "execute_result"
    }
   ],
   "source": [
    "arr_copy"
   ]
  },
  {
   "cell_type": "code",
   "execution_count": 79,
   "id": "b076e1f4",
   "metadata": {},
   "outputs": [
    {
     "data": {
      "text/plain": [
       "array([99, 99, 99, 99, 99, 99,  6,  7,  8,  9, 10])"
      ]
     },
     "execution_count": 79,
     "metadata": {},
     "output_type": "execute_result"
    }
   ],
   "source": [
    "arr # original array is unaffected"
   ]
  },
  {
   "cell_type": "markdown",
   "id": "eb790177",
   "metadata": {},
   "source": [
    "## Matrix indexing"
   ]
  },
  {
   "cell_type": "code",
   "execution_count": 83,
   "id": "efacb17d",
   "metadata": {},
   "outputs": [],
   "source": [
    "arr_mat1 = np.array([[5,10,15],[20,25,30], [35,40,45]])"
   ]
  },
  {
   "cell_type": "code",
   "execution_count": 84,
   "id": "7465ea83",
   "metadata": {},
   "outputs": [
    {
     "data": {
      "text/plain": [
       "array([[ 5, 10, 15],\n",
       "       [20, 25, 30],\n",
       "       [35, 40, 45]])"
      ]
     },
     "execution_count": 84,
     "metadata": {},
     "output_type": "execute_result"
    }
   ],
   "source": [
    "arr_mat1"
   ]
  },
  {
   "cell_type": "code",
   "execution_count": 85,
   "id": "26e1f89f",
   "metadata": {},
   "outputs": [],
   "source": [
    "# There are two methods to index matrices"
   ]
  },
  {
   "cell_type": "code",
   "execution_count": 88,
   "id": "d87f3bf4",
   "metadata": {},
   "outputs": [
    {
     "data": {
      "text/plain": [
       "5"
      ]
     },
     "execution_count": 88,
     "metadata": {},
     "output_type": "execute_result"
    }
   ],
   "source": [
    "# First method(Double Bracket format)\n",
    "\n",
    "arr_mat1[0][0] # returns the number 5 "
   ]
  },
  {
   "cell_type": "code",
   "execution_count": 90,
   "id": "dba01da1",
   "metadata": {},
   "outputs": [
    {
     "data": {
      "text/plain": [
       "array([[20, 25, 30],\n",
       "       [35, 40, 45]])"
      ]
     },
     "execution_count": 90,
     "metadata": {},
     "output_type": "execute_result"
    }
   ],
   "source": [
    "# Second method(Single Bracket format)\n",
    "\n",
    "arr_mat1[0,0] # also returns the number 5\n",
    "arr_mat1[1:]"
   ]
  }
 ],
 "metadata": {
  "kernelspec": {
   "display_name": "Python 3 (ipykernel)",
   "language": "python",
   "name": "python3"
  },
  "language_info": {
   "codemirror_mode": {
    "name": "ipython",
    "version": 3
   },
   "file_extension": ".py",
   "mimetype": "text/x-python",
   "name": "python",
   "nbconvert_exporter": "python",
   "pygments_lexer": "ipython3",
   "version": "3.10.2"
  }
 },
 "nbformat": 4,
 "nbformat_minor": 5
}
